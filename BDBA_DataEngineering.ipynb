{
 "cells": [
  {
   "cell_type": "markdown",
   "metadata": {},
   "source": [
    "# create producer.py"
   ]
  },
  {
   "cell_type": "code",
   "execution_count": 4,
   "metadata": {},
   "outputs": [
    {
     "ename": "ModuleNotFoundError",
     "evalue": "No module named 'BDBAProducer'",
     "traceback": [
      "\u001b[1;31m---------------------------------------------------------------------------\u001b[0m",
      "\u001b[1;31mModuleNotFoundError\u001b[0m                       Traceback (most recent call last)",
      "\u001b[1;32m<ipython-input-4-9f99c31eb46e>\u001b[0m in \u001b[0;36m<module>\u001b[1;34m()\u001b[0m\n\u001b[1;32m----> 1\u001b[1;33m \u001b[1;32mimport\u001b[0m \u001b[0mBDBAProducer\u001b[0m\u001b[1;33m\u001b[0m\u001b[0m\n\u001b[0m\u001b[0;32m      2\u001b[0m \u001b[1;32mimport\u001b[0m \u001b[0mSodaConnector\u001b[0m\u001b[1;33m\u001b[0m\u001b[0m\n\u001b[0;32m      3\u001b[0m \u001b[1;32mimport\u001b[0m \u001b[0mrandom\u001b[0m\u001b[1;33m\u001b[0m\u001b[0m\n\u001b[0;32m      4\u001b[0m \u001b[1;32mimport\u001b[0m \u001b[0mtime\u001b[0m\u001b[1;33m\u001b[0m\u001b[0m\n\u001b[0;32m      5\u001b[0m \u001b[1;32mimport\u001b[0m \u001b[0mjson\u001b[0m\u001b[1;33m\u001b[0m\u001b[0m\n",
      "\u001b[1;31mModuleNotFoundError\u001b[0m: No module named 'BDBAProducer'"
     ],
     "output_type": "error"
    }
   ],
   "source": [
    "import BDBAProducer\n",
    "import SodaConnector\n",
    "import random\n",
    "import time\n",
    "import json\n",
    "\n",
    "soda = SodaConnector(\"data.cityofnewyork.us\")\n",
    "requests = soda.get_data(\"fhrw-4uyv\", limit=1000)\n",
    "producer = BDBAProducer()\n",
    "topic = 'ServiceRequests'\n",
    "\n",
    "for request in requests:\n",
    "    json_string = json.dumps(request)\n",
    "    json_byte = b\"\" + json_string\n",
    "    producer.send_service_request(topic, json_byte)\n",
    "    time.sleep(random.randint(0, 100) * 0.1)"
   ]
  },
  {
   "cell_type": "markdown",
   "metadata": {},
   "source": [
    "# create consumer.py"
   ]
  },
  {
   "cell_type": "code",
   "execution_count": null,
   "metadata": {},
   "outputs": [],
   "source": [
    "from kafka import KafkaConsumer\n",
    "from DBHelper import DBHelper\n",
    "import json\n",
    "from datetime import datetime\n",
    "\n",
    "\n",
    "requests = KafkaConsumer(\"ServiceRequests\", bootstrap_servers='localhost:9092', auto_offset_reset='earliest')\n",
    "db_helper = DBHelper('postgres')\n",
    "\n",
    "for message in requests:\n",
    "    message_json = json.loads(message.value)\n",
    "    print(json.dumps(message_json))\n",
    "\n",
    "    time = datetime.now()\n",
    "    print(time)\n",
    "    if 'agency_name' in message_json:\n",
    "        agency_name =  message_json['agency_name']\n",
    "        print(agency_name)\n",
    "    if 'complaint_type' in message_json:\n",
    "        type = message_json['complaint_type']\n",
    "        print(type)\n",
    "    if 'descriptor' in message_json:\n",
    "        descriptor = message_json['descriptor']\n",
    "        print(descriptor)\n",
    "    if 'longitude' in message_json:\n",
    "        longitude = message_json['longitude']\n",
    "        print(longitude)\n",
    "    if 'latitude' in message_json:\n",
    "        latitude = message_json['latitude']\n",
    "        print(latitude)\n",
    "\n",
    "    entry = {\n",
    "        'created_date': time,\n",
    "        'agency_name': agency_name,\n",
    "        'complaint_type': type,\n",
    "        'descriptor': descriptor,\n",
    "        'longitude': longitude,\n",
    "        'latitude': latitude\n",
    "    }\n",
    "    db_helper.insert(entry, 'service_request')"
   ]
  }
 ],
 "metadata": {
  "kernelspec": {
   "display_name": "Python 3",
   "language": "python",
   "name": "python3"
  },
  "language_info": {
   "codemirror_mode": {
    "name": "ipython",
    "version": 3
   },
   "file_extension": ".py",
   "mimetype": "text/x-python",
   "name": "python",
   "nbconvert_exporter": "python",
   "pygments_lexer": "ipython3",
   "version": "3.6.2"
  }
 },
 "nbformat": 4,
 "nbformat_minor": 2
}
